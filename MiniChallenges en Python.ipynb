{
 "cells": [
  {
   "cell_type": "markdown",
   "id": "661a3f56",
   "metadata": {},
   "source": [
    "Dia 1 - Inversión de una Cadena\n",
    "Escribe un programa que invierta una cadena de caracteres dada por el\n",
    "usuario."
   ]
  },
  {
   "cell_type": "code",
   "execution_count": 7,
   "id": "ebd6c559",
   "metadata": {},
   "outputs": [
    {
     "name": "stdout",
     "output_type": "stream",
     "text": [
      "hola\n",
      "aloh\n"
     ]
    }
   ],
   "source": [
    "cadena_dada = input(\"Ingrese la cadena a invertir: \\n\")\n",
    "longitud = len(cadena_dada)\n",
    "lista_invertida = []\n",
    "print(cadena_dada)\n",
    "for letra in cadena_dada:\n",
    "    lista_invertida.append(cadena_dada[longitud-1])\n",
    "    longitud -= 1\n",
    "cadena_invertida = \"\".join(lista_invertida)\n",
    "print(cadena_invertida)\n"
   ]
  },
  {
   "cell_type": "markdown",
   "id": "a88cc094",
   "metadata": {},
   "source": [
    "Dia 2 - Tabla de Multiplicar\n",
    "Escribe un programa que muestre la tabla de multiplicar de un número\n",
    "dado por el usuario."
   ]
  },
  {
   "cell_type": "code",
   "execution_count": 16,
   "id": "ad768135",
   "metadata": {},
   "outputs": [
    {
     "name": "stdout",
     "output_type": "stream",
     "text": [
      "TABLA DE MULTIPLICAR DE '10':\n",
      "\n",
      "10 x 0 = 0\n",
      "10 x 1 = 10\n",
      "10 x 2 = 20\n",
      "10 x 3 = 30\n",
      "10 x 4 = 40\n",
      "10 x 5 = 50\n",
      "10 x 6 = 60\n",
      "10 x 7 = 70\n",
      "10 x 8 = 80\n",
      "10 x 9 = 90\n",
      "10 x 10 = 100\n"
     ]
    }
   ],
   "source": [
    "numero = int(input(\"Ingrese numero: \\n\"))\n",
    "print(f\"TABLA DE MULTIPLICAR DE '{numero}':\\n\")\n",
    "for i in range(0,11):\n",
    "    print(f\"{numero} x {i} = {i*numero}\")\n",
    "\n"
   ]
  },
  {
   "cell_type": "markdown",
   "id": "42a6ddfd",
   "metadata": {},
   "source": [
    "Dia 3 - Contar Vocales\n",
    "Escribe un programa que cuente el número de vocales en una cadena\n",
    "dada."
   ]
  },
  {
   "cell_type": "code",
   "execution_count": 18,
   "id": "a70686cb",
   "metadata": {},
   "outputs": [
    {
     "name": "stdout",
     "output_type": "stream",
     "text": [
      "La cantidad de vocales encontradas es: 2\n",
      "\n",
      "Las vocales encontradas son: ['o', 'a']\n"
     ]
    }
   ],
   "source": [
    "palabra_dada = input(\"Ingrese palabra:\\n\")\n",
    "vocales = ['a','e','i','o','u']\n",
    "cantidad_de_vocales = 0\n",
    "vocales_encontradas = []\n",
    "for letra in palabra_dada:\n",
    "    if letra in vocales:\n",
    "        vocales_encontradas.append(letra)\n",
    "        cantidad_de_vocales += 1\n",
    "print(f\"La cantidad de vocales encontradas es: {cantidad_de_vocales}\\n\")\n",
    "print(f\"Las vocales encontradas son: {vocales_encontradas}\")"
   ]
  },
  {
   "cell_type": "markdown",
   "id": "95394c7c",
   "metadata": {},
   "source": [
    "Dia 4 - Ordenar Lista\n",
    "Escribe un programa que ordene una lista de números dada por el usuario\n",
    "en orden ascendente."
   ]
  },
  {
   "cell_type": "code",
   "execution_count": 70,
   "id": "44d463e2",
   "metadata": {},
   "outputs": [],
   "source": [
    "def ordenar_numero(lista_de_numeros,numeros_deseados):\n",
    "     for n in range(numeros_deseados-1):\n",
    "        if lista_de_numeros[n] > lista_de_numeros[n+1]: #Se recorre la lista y el mayor numero se posiciona hasta el final\n",
    "            temp = lista_de_numeros[n]\n",
    "            lista_de_numeros[n] = lista_de_numeros[n+1]\n",
    "            lista_de_numeros[n+1] = temp\n",
    "     if lista_de_numeros[0] == min(lista_de_numeros): # Si el primer elemento es el menor se retorna la lista \n",
    "        return lista_de_numeros\n",
    "     else:\n",
    "        ordenar_numero(lista_de_numeros,numeros_deseados) #Se llama a recursividad para volver a ordenar\n",
    "\n",
    "    \n",
    "    \n",
    "\n",
    "      \n",
    "        \n"
   ]
  },
  {
   "cell_type": "code",
   "execution_count": 71,
   "id": "ff68598a",
   "metadata": {},
   "outputs": [
    {
     "name": "stdout",
     "output_type": "stream",
     "text": [
      "[1, 2, 3, 4, 6]\n"
     ]
    }
   ],
   "source": [
    "numeros_deseados = int(input(\"Cuantos numeros desea ordenar:\\n\"))\n",
    "lista_de_numeros = []\n",
    "for nro in range(numeros_deseados):\n",
    "    numero_ingresado = int(input(\"Ingrese nro: \\n\"))\n",
    "    lista_de_numeros.append(int(numero_ingresado))\n",
    "ordenar_numero(lista_de_numeros,numeros_deseados)\n",
    "print(lista_de_numeros)\n"
   ]
  },
  {
   "cell_type": "markdown",
   "id": "c6a1d41b",
   "metadata": {},
   "source": [
    "Dia 5 - Crear un Diccionario\n",
    "Escribe un programa que cree un diccionario a partir de dos listas dadas:\n",
    "una de claves y otra de valores."
   ]
  },
  {
   "cell_type": "code",
   "execution_count": null,
   "id": "fed90b84",
   "metadata": {},
   "outputs": [
    {
     "name": "stdout",
     "output_type": "stream",
     "text": [
      "Dato1:Valor1\n",
      "Dato2:Valor2\n"
     ]
    }
   ],
   "source": [
    "#Se inicializa el diccionario\n",
    "dic = {}\n",
    "lista_1 = ['Dato1','Dato2'] \n",
    "lista_2 = ['Valor1','Valor2']\n",
    "dimension_lista_1 = len(lista_1) #Se determina la dimension de lista 1\n",
    "dimension_lista_2 = len(lista_2) #Se determina la dimension de la lista 2\n",
    "if dimension_lista_1 == dimension_lista_2: #Solo se guarda en el diccionario si las dos lista tienen la misma dimension\n",
    "  for n in range(dimension_lista_1):\n",
    "    dic[lista_1[n]] = lista_2[n]\n",
    "else:\n",
    "  print(f\"Las dimensiones de las listas no coincides.\\n Dimension lista 1 {dimension_lista_1}, Dimension lista 2 {dimension_lista_2}\")\n",
    "for clave,valor in dic.items():\n",
    "  print(f\"{clave}:{valor}\")\n",
    "  "
   ]
  },
  {
   "cell_type": "markdown",
   "id": "403bba19",
   "metadata": {},
   "source": [
    "Dia 6 - Conversión de T emperatura\n",
    "Escribe un programa que convierta una temperatura dada en grados\n",
    "Celsius a grados Fahrenheit."
   ]
  },
  {
   "cell_type": "code",
   "execution_count": null,
   "id": "bb54dc16",
   "metadata": {},
   "outputs": [
    {
     "name": "stdout",
     "output_type": "stream",
     "text": [
      "77.0\n"
     ]
    }
   ],
   "source": [
    "grados_celsius = int(input(\"Ingrese la temperatura en Celsius: \")) #Se pide la temp. en Celsius\n",
    "grados_fahrenheit = (grados_celsius * 1.8) + 32 #Se calcula en Fahrenheit\n",
    "print(grados_fahrenheit)\n"
   ]
  },
  {
   "cell_type": "markdown",
   "id": "3035060f",
   "metadata": {},
   "source": [
    "Dia 7 - Juego de Piedra, Papel o Tijeras\n",
    "Escribe un programa que permita al usuario jugar piedra, papel o tijeras\n",
    "contra la computadora."
   ]
  },
  {
   "cell_type": "code",
   "execution_count": null,
   "id": "892d4d21",
   "metadata": {},
   "outputs": [
    {
     "name": "stdout",
     "output_type": "stream",
     "text": [
      "piedra\n",
      "piedra\n",
      "Es un empate\n",
      "Marcador :\n",
      " Jugador : 0\n",
      " Computadora : 0\n",
      "piedra\n",
      "tijera\n",
      "Ganaste\n",
      "piedra\n",
      "piedra\n",
      "Es un empate\n",
      "Marcador :\n",
      " Jugador : 1\n",
      " Computadora : 0\n",
      "paple\n",
      "piedra\n",
      "Computadora gana\n",
      "papel\n",
      "papel\n",
      "Es un empate\n",
      "Marcador :\n",
      " Jugador : 1\n",
      " Computadora : 1\n",
      "papel\n",
      "piedra\n",
      "Ganaste\n",
      "Haz Ganado!!!\n"
     ]
    }
   ],
   "source": [
    "import random\n",
    "jugador_gana = 0\n",
    "computadora_gana = 0\n",
    "while jugador_gana < 2 and computadora_gana < 2:  #El bucle sigue hasta que uno gane 2 vueltas\n",
    "    jugador_elige = input(\"Elige entre piedra, papel, tijera\").lower()\n",
    "    opciones_maquina = ['piedra','papel','tijera'] #Opciones para la computadora\n",
    "    computadora_elije = random.choice(opciones_maquina) #La computadora elije \n",
    "    print(f\"La computadora elije: {computadora_elije}\")\n",
    "    #Se evalua las posibilidades donde gana el jugador\n",
    "    if (jugador_elige == 'piedra' and computadora_elije == 'tijera') or (jugador_elige == 'papel' and computadora_elije == 'piedra') or (jugador_elige == 'tijera' and computadora_elije == 'papel'):\n",
    "        ganador = \"jugador\"\n",
    "    elif jugador_elige == computadora_elije:\n",
    "        ganador = 'empate'\n",
    "    else:\n",
    "        ganador = \"computadora\"\n",
    "    \n",
    "    if ganador == \"jugador\": #Si el jugador gana se aumenta el contador del jugador\n",
    "      print(\"Ganaste\")\n",
    "      jugador_gana += 1\n",
    "    elif ganador == \"computadora\": #Si gana la maquina se aumenta el contador de la maquina\n",
    "        print(\"Computadora gana\")\n",
    "        computadora_gana += 1\n",
    "    else: #Si no se dan los otros casos, se considera empate\n",
    "        print(\"Es un empate\")\n",
    "        print(f\"Marcador :\\n Jugador : {jugador_gana}\\n Computadora : {computadora_gana}\")\n",
    "if jugador_gana > computadora_gana: #Si el jugador posee mas victorias, se le considera ganador\n",
    "    print(\"Haz Ganado!!!\")\n",
    "else:\n",
    "    print(\"Haz perdido!!!\")"
   ]
  },
  {
   "cell_type": "markdown",
   "id": "3815d3c2",
   "metadata": {},
   "source": [
    "Dia 8 - Generador de Contraseñas Seguras\n",
    "Escribe un programa que genere una contraseña segura de longitud\n",
    "variable (entre 8 y 16 caracteres) que incluya letras mayúsculas,\n",
    "minúsculas, números y símbolos"
   ]
  },
  {
   "cell_type": "code",
   "execution_count": 5,
   "id": "bf3f7a53",
   "metadata": {},
   "outputs": [
    {
     "name": "stdout",
     "output_type": "stream",
     "text": [
      "La longitud esta fuera de rango....\n",
      "La longitud esta fuera de rango....\n",
      "Su contraseña es : 7aVI%t\n"
     ]
    }
   ],
   "source": [
    "import random\n",
    "#Todos los caracteres disponibles para contraseñas\n",
    "caracteres = \"abcdefghijklmnopqrstuvwxyzABCDEFGHIJKLMNOPQRSTUVWXYZ0123456789!@#$%^&*\" \n",
    "#Se solicita la longitud del password\n",
    "while True:\n",
    "  longitud = int(input(\"Ingrese la longitud de su password:\"))\n",
    "  #Se verifica que la longitud se encuentre en el rango\n",
    "  if 5 < longitud < 17:\n",
    "    break\n",
    "  else:\n",
    "    print('La longitud esta fuera de rango....')\n",
    "    \n",
    "caracteres_seleccinados = random.choices(caracteres , k = longitud)\n",
    "print(f\"Su contraseña es : {\"\".join(caracteres_seleccinados)}\")"
   ]
  },
  {
   "cell_type": "markdown",
   "id": "404688cc",
   "metadata": {},
   "source": []
  }
 ],
 "metadata": {
  "kernelspec": {
   "display_name": "base",
   "language": "python",
   "name": "python3"
  },
  "language_info": {
   "codemirror_mode": {
    "name": "ipython",
    "version": 3
   },
   "file_extension": ".py",
   "mimetype": "text/x-python",
   "name": "python",
   "nbconvert_exporter": "python",
   "pygments_lexer": "ipython3",
   "version": "3.12.7"
  }
 },
 "nbformat": 4,
 "nbformat_minor": 5
}
